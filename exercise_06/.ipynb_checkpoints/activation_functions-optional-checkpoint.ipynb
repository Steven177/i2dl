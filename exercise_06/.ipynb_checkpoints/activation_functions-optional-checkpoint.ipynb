{
 "cells": [
  {
   "cell_type": "markdown",
   "metadata": {},
   "source": [
    "# Actication Functions\n",
    "\n",
    "It is __optional__ but recommended for you to implement these activation functions in ```exercise_code/networks/layer.py```, both forward and backward pass, as a choice of hyperparameter. \n",
    "\n",
    "__Note__: We provide you with the sigmoid activation function for your convenience, which you've already worked with in previous exercises. "
   ]
  },
  {
   "cell_type": "markdown",
   "metadata": {},
   "source": [
    "Recall that activation functions introduce more non-linearity to the network. Here we introduce several kinds of activation functions:\n",
    "\n",
    "* Sigmoid\n",
    "\n",
    "$$Sigmoid(x) = \\frac{1}{1 + exp(-x)}$$\n",
    "\n",
    "<img src=https://pytorch.org/docs/stable/_images/Sigmoid.png alt=\"Figure4\" width=\"400\"/>\n",
    "\n",
    "* ReLU\n",
    "\n",
    "$$ReLU(x) = max(0, x)$$\n",
    "\n",
    "<img src=https://pytorch.org/docs/stable/_images/ReLU.png alt=\"Figure2\" width=\"400\"/>\n",
    "\n",
    "* Leaky ReLU\n",
    "\n",
    "$$LeakyReLU(x) = max(0.01x, x)$$\n",
    "\n",
    "<img src=https://pytorch.org/docs/stable/_images/LeakyReLU.png alt=\"Figure3\" width=\"400\"/>\n",
    "\n",
    "* Tanh\n",
    "\n",
    "$$Tanh(x) = \\frac{exp(x) - exp(-x)}{exp(x) + exp(-x)}$$\n",
    "\n",
    "<img src=https://pytorch.org/docs/stable/_images/Tanh.png alt=\"Figure3\" width=\"400\"/>"
   ]
  },
  {
   "cell_type": "code",
   "execution_count": null,
   "metadata": {},
   "outputs": [],
   "source": [
    "%load_ext autoreload\n",
    "%autoreload 2"
   ]
  },
  {
   "cell_type": "markdown",
   "metadata": {},
   "source": [
    "__Hint__:\n",
    "\n",
    "If you have implemented the extra activation functions, please run the following cell to check whether you have did it the right way. \n",
    "\n",
    "Otherwise just skip the cell."
   ]
  },
  {
   "cell_type": "code",
   "execution_count": null,
   "metadata": {},
   "outputs": [],
   "source": [
    "from exercise_code.tests.layer_tests import *\n",
    "\n",
    "print(ReluTest()())\n",
    "print()\n",
    "print(LeakyReluTest()())\n",
    "print()\n",
    "print(TanhTest()())"
   ]
  },
  {
   "cell_type": "markdown",
   "metadata": {},
   "source": [
    "## 1. Sigmoid function"
   ]
  },
  {
   "cell_type": "markdown",
   "metadata": {},
   "source": [
    "TODO: Short introduction, hint to the already given implementation (green box: Check Code)"
   ]
  },
  {
   "cell_type": "markdown",
   "metadata": {},
   "source": [
    "## 2. ReLU function"
   ]
  },
  {
   "cell_type": "markdown",
   "metadata": {},
   "source": [
    "TODO: Short introduction, task for student to implement forward() and backward() pass, corresponding test cell"
   ]
  },
  {
   "cell_type": "markdown",
   "metadata": {},
   "source": [
    "## 3. Leaky ReLU"
   ]
  },
  {
   "cell_type": "markdown",
   "metadata": {},
   "source": [
    "TODO: Short introduction, optional task for student to implement forward() and backward() pass, corresponding test cell"
   ]
  },
  {
   "cell_type": "markdown",
   "metadata": {},
   "source": [
    "## 4. Tanh function"
   ]
  },
  {
   "cell_type": "markdown",
   "metadata": {},
   "source": [
    "TODO: Short introduction, optional task for student to implement forward() and backward() pass, corresponding test cell"
   ]
  },
  {
   "cell_type": "code",
   "execution_count": null,
   "metadata": {},
   "outputs": [],
   "source": []
  }
 ],
 "metadata": {
  "kernelspec": {
   "display_name": "Python 3",
   "language": "python",
   "name": "python3"
  },
  "language_info": {
   "codemirror_mode": {
    "name": "ipython",
    "version": 3
   },
   "file_extension": ".py",
   "mimetype": "text/x-python",
   "name": "python",
   "nbconvert_exporter": "python",
   "pygments_lexer": "ipython3",
   "version": "3.7.9"
  }
 },
 "nbformat": 4,
 "nbformat_minor": 4
}
